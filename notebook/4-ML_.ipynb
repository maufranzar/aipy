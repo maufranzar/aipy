{
 "cells": [
  {
   "cell_type": "code",
   "execution_count": null,
   "metadata": {},
   "outputs": [],
   "source": [
    "\n",
    "import numpy as np\n",
    "import pandas as pd\n",
    "import matplotlib.pyplot as plt\n",
    "import seaborn as sns\n",
    "\n",
    "...\n",
    "\n",
    "from sklearn.preprocessing import StandardScaler, OneHotEncoder\n",
    "from sklearn.compose import ColumnTransformer\n",
    "from sklearn.cluster import AgglomerativeClustering, KMeans\n",
    "from sklearn.metrics import accuracy_score, silhouette_score\n",
    "from sklearn.preprocessing import StandardScaler\n",
    "from sklearn.decomposition import PCA\n",
    "from sklearn.model_selection import train_test_split\n",
    "from sklearn.datasets import make_blobs\n",
    "from sklearn.metrics import silhouette_score\n",
    "from sklearn.pipeline import make_pipeline\n",
    "\n",
    "...\n",
    "\n",
    "from scipy.cluster.hierarchy import dendrogram, linkage\n",
    "\n",
    "import warnings\n",
    " \n",
    "...\n",
    "warnings.filterwarnings('ignore')\n",
    "\n",
    "sns.set(style=\"whitegrid\",\n",
    "        color_codes=True,\n",
    "        context=\"notebook\",\n",
    "        rc={\"grid.linewidth\":0.25,\"grid.color\":\"grey\",\"grid.linestyle\":\"-\"},\n",
    "        font_scale=1)\n",
    "\n",
    "sns.set_palette(\"deep\")\n",
    "plt.style.use('dark_background')\n",
    "plt.rcParams['figure.figsize'] = (9,9)"
   ]
  },
  {
   "cell_type": "code",
   "execution_count": null,
   "metadata": {},
   "outputs": [],
   "source": [
    "# Cargamos el DataFrame\n",
    "df = pd.read_csv('../data/processed/df.csv')\n",
    "\n",
    "# Filtramos las variables de Interes\n",
    "df = df[['month','gender','years','edu_lvl','etnicity','1st_source','total']]\n",
    "\n",
    "df = df.dropna()\n",
    "df.to_csv('../data/processed/DataFrame.csv')\n",
    "\n",
    "# Separamos las variables categoricas y numericas\n",
    "categoric_columns = ['month', 'gender', 'edu_lvl', 'etnicity']\n",
    "numeric_columns = ['years', '1st_source', 'total']\n",
    "\n",
    "\n"
   ]
  },
  {
   "cell_type": "code",
   "execution_count": null,
   "metadata": {},
   "outputs": [],
   "source": [
    "# Crear una pipeline para el preprocesamiento\n",
    "preprocessing_pipeline = make_pipeline(\n",
    "    StandardScaler(),\n",
    "    PCA(n_components=2)\n",
    ")\n",
    "\n",
    "chunk_size = 512\n",
    "\n",
    "# Leer el DataFrame en chunks y aplicar el modelo de clustering a cada chunk\n",
    "for chunk in pd.read_csv('../data/processed/DataFrame.csv', chunksize=chunk_size):\n",
    "    # Seleccionar solo las columnas numéricas\n",
    "    chunk_numeric = chunk[numeric_columns]\n",
    "    \n",
    "    # Eliminar las filas con valores NaN\n",
    "    chunk_numeric = chunk_numeric.dropna()\n",
    "    \n",
    "    # Aplicar la pipeline de preprocesamiento\n",
    "    chunk_transformed = preprocessing_pipeline.fit_transform(chunk_numeric)\n",
    "    \n",
    "    # Aplicar un modelo de clustering jerárquico\n",
    "    linked = linkage(chunk_transformed, 'ward')\n",
    "    \n",
    "    # Mostrar el dendrograma\n",
    "    dendrogram(linked)\n",
    "    plt.title('Dendrograma')\n",
    "    plt.xlabel('Ejemplos')\n",
    "    plt.ylabel('Distancia')\n",
    "    plt.show()"
   ]
  }
 ],
 "metadata": {
  "kernelspec": {
   "display_name": "aipy",
   "language": "python",
   "name": "python3"
  },
  "language_info": {
   "codemirror_mode": {
    "name": "ipython",
    "version": 3
   },
   "file_extension": ".py",
   "mimetype": "text/x-python",
   "name": "python",
   "nbconvert_exporter": "python",
   "pygments_lexer": "ipython3",
   "version": "3.11.5"
  }
 },
 "nbformat": 4,
 "nbformat_minor": 2
}
