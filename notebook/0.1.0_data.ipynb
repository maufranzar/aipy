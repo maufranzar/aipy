{
 "cells": [
  {
   "cell_type": "code",
   "execution_count": null,
   "metadata": {},
   "outputs": [],
   "source": [
    "from fs.osfs import OSFS\n",
    "import zipfile\n",
    "\n",
    "DATA_DIR = OSFS('../data/')\n",
    "DATA_PATH = DATA_DIR.getsyspath('external/<CSV_FILE.ZIP>')\n",
    "DATA_RAW_DIR = DATA_DIR.getsyspath('raw/')\n",
    "\n",
    "with zipfile.ZipFile(DATA_PATH,'r') as unzip_file:\n",
    "    unzip_file.extractall(DATA_RAW_DIR)"
   ]
  }
 ],
 "metadata": {
  "kernelspec": {
   "display_name": "test",
   "language": "python",
   "name": "python3"
  },
  "language_info": {
   "codemirror_mode": {
    "name": "ipython",
    "version": 3
   },
   "file_extension": ".py",
   "mimetype": "text/x-python",
   "name": "python",
   "nbconvert_exporter": "python",
   "pygments_lexer": "ipython3",
   "version": "3.11.5"
  }
 },
 "nbformat": 4,
 "nbformat_minor": 2
}
