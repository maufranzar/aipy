{
 "cells": [
  {
   "cell_type": "code",
   "execution_count": null,
   "metadata": {},
   "outputs": [],
   "source": [
    "import pandas as pd \n",
    "import numpy as np\n"
   ]
  },
  {
   "cell_type": "code",
   "execution_count": null,
   "metadata": {},
   "outputs": [],
   "source": [
    "# TIPO de los DATOS\n",
    "var_types = {\n",
    "    'month':        'str',\n",
    "    'gender':       'str',                 \n",
    "    'years':        'float',\n",
    "    'rol':          'str',                  \n",
    "    'sector':       'str',               \n",
    "    'n_employees':  'str',       \n",
    "    'lf_job':       'bool',     \n",
    "    'employment_source':'str',   \n",
    "    'n_weeks_lf_job':'float',\n",
    "    'edu_lvl':      'str',      \n",
    "    'etnicity':     'str',            \n",
    "    'main_source':  'float', \n",
    "    'total':        'float', \n",
    "}\n",
    "\n",
    "\n",
    "# Cargamos el DataFrame\n",
    "df = pd.read_csv('../data/pre-processed/pre-dataset.csv',low_memory=False)\n",
    "\n",
    "# Convertimos los valores nulos y espacios en blanco a NaN\n",
    "df = df.replace(r'^\\s*$', np.nan, regex=True)\n",
    "\n",
    "# Convertimos las variables a los tipos de datos establecidos\n",
    "df = df.astype(var_types)\n",
    "\n",
    "# Filtramos las variables de interes\n",
    "df = df[['month','gender','years','edu_lvl','etnicity','main_source','total']]\n",
    "\n",
    "# Filtramos las filas con valores menores a 16 años y mayores a 75 años\n",
    "df = df[(df['years'] >= 16) & (df['years'] <= 75)]\n",
    "\n",
    "# Filtramos valor de total es mayor a 100 y menor a 9000\n",
    "df = df[(df['total'] >= 100) & (df['total'] <= 9000)]\n",
    "\n",
    "print(f'tamaño del dataframe:{df.shape}\\ntipos de datos:\\n{df.dtypes}\\n')\n",
    "\n",
    "print(df)\n"
   ]
  },
  {
   "cell_type": "code",
   "execution_count": null,
   "metadata": {},
   "outputs": [],
   "source": []
  }
 ],
 "metadata": {
  "kernelspec": {
   "display_name": "test",
   "language": "python",
   "name": "python3"
  },
  "language_info": {
   "codemirror_mode": {
    "name": "ipython",
    "version": 3
   },
   "file_extension": ".py",
   "mimetype": "text/x-python",
   "name": "python",
   "nbconvert_exporter": "python",
   "pygments_lexer": "ipython3",
   "version": "3.11.5"
  }
 },
 "nbformat": 4,
 "nbformat_minor": 2
}
