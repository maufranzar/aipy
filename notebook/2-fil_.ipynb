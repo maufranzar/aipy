{
 "cells": [
  {
   "cell_type": "code",
   "execution_count": null,
   "metadata": {},
   "outputs": [],
   "source": [
    "import pandas as pd \n",
    "import numpy as np\n",
    "\n",
    "# TIPO de los DATOS\n",
    "var_types = {\n",
    "    'month':        'object',\n",
    "    'gender':       'object',                 \n",
    "    'years':        'float32',\n",
    "    'edu_lvl':      'object',      \n",
    "    'etnicity':     'object',            \n",
    "    'main_source':  'float32', \n",
    "    'total':        'float32'\n",
    "}\n",
    "\n",
    "# Cargamos el DataFrame\n",
    "df = pd.read_csv('../data/pre-processed/predataset.csv',low_memory=False)\n",
    "\n",
    "df = df[['years','gender','edu_lvl','etnicity','month','main_source','total']]\n",
    "\n",
    "# Convertimos los valores nulos, espacios en blanco y 'nan' a NaN\n",
    "df = df.replace({r'^\\s*$': np.nan, 'nan': np.nan}, regex=True)\n",
    "\n",
    "# Convertimos las variables a los tipos de datos establecidos\n",
    "df = df.astype(var_types)\n",
    "\n",
    "# Filtramos las filas con valores menores a 16 años y mayores a 75 años\n",
    "df = df[(df['years'] >= 16) & (df['years'] <= 80)]\n",
    "\n",
    "# Filtramos valor de total es mayor a 100 y menor a 15000\n",
    "df = df[(df['total'] >= 100) & (df['total'] <= 15000)]\n",
    "\n",
    "df = df.dropna(subset=['main_source','total','years'])\n",
    "df = df.reset_index(drop=True)\n",
    "print(f'tamaño del dataframe:{df.shape}\\ntipos de datos:\\n{df.dtypes}\\n')\n",
    "\n",
    "print(df)"
   ]
  },
  {
   "cell_type": "code",
   "execution_count": null,
   "metadata": {},
   "outputs": [],
   "source": [
    "\n",
    "# df_1 es df sin las columnas 'edu_lvl' y 'etnicity'\n",
    "df_1 = df.drop(columns=['edu_lvl', 'etnicity'])\n",
    "\n",
    "# df_2 son las filas de df donde 'edu_lvl' y 'etnicity' son distintos a NaN\n",
    "df_2 = df.dropna(subset=['edu_lvl', 'etnicity'])\n",
    "df_2 = df_2.reset_index(drop=True)\n",
    "\n",
    "\n",
    "df_1.to_csv('../data/processed/dataset.csv', index=False)\n",
    "df_2.to_csv('../data/processed/subdataset.csv', index=False)\n",
    "\n",
    "print(df_1)\n",
    "print(df_2)\n",
    "\n",
    "\n",
    "### IMPUTACION DE VALORES FALTANTES ###\n",
    "\n",
    "#######################################\n",
    "# Imputamos los valores faltantes de 'edu_lvl' y 'etnicity' con la moda\n",
    "# df_1['edu_lvl'] = df_1['edu_lvl'].fillna(df_1['edu_lvl'].mode()[0])\n",
    "# df_1['etnicity'] = df_1['etnicity'].fillna(df_1['etnicity'].mode()[0])\n",
    "\n",
    "# # Imputamos los valores faltantes de 'edu_lvl' y 'etnicity' con la moda\n",
    "# df_2['edu_lvl'] = df_2['edu_lvl'].fillna(df_2['edu_lvl'].mode()[0])\n",
    "# df_2['etnicity'] = df_2['etnicity'].fillna(df_2['etnicity'].mode()[0])\n",
    "#######################################\n",
    "\n",
    "# BLA BLA BLA\n"
   ]
  }
 ],
 "metadata": {
  "kernelspec": {
   "display_name": "test",
   "language": "python",
   "name": "python3"
  },
  "language_info": {
   "codemirror_mode": {
    "name": "ipython",
    "version": 3
   },
   "file_extension": ".py",
   "mimetype": "text/x-python",
   "name": "python",
   "nbconvert_exporter": "python",
   "pygments_lexer": "ipython3",
   "version": "3.11.5"
  }
 },
 "nbformat": 4,
 "nbformat_minor": 2
}
