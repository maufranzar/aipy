{
 "cells": [
  {
   "cell_type": "code",
   "execution_count": null,
   "metadata": {},
   "outputs": [],
   "source": [
    "import pandas as pd \n",
    "import numpy as np\n",
    "\n",
    "# TIPO de los DATOS\n",
    "var_types = {\n",
    "    'month':'object',\n",
    "    'sex':'object',\n",
    "    'age':'float32',\n",
    "    'education':'object',\n",
    "    'ethnicity':'object',\n",
    "    'main_src': 'float32',\n",
    "    'total_src': 'float32'\n",
    "}\n",
    "\n",
    "# Cargamos el DataFrame\n",
    "df = pd.read_csv('../data/pre-processed/predataset.csv',low_memory=False)\n",
    "\n",
    "\n",
    "#Variables de interes\n",
    "df = df[['age','sex','education','ethnicity','month','main_src','total_src']]\n",
    "\n",
    "# Convertimos los valores nulos, espacios en blanco y 'nan' a NaN\n",
    "df = df.replace({r'^\\s*$': np.nan, 'nan': np.nan}, regex=True)\n",
    "\n",
    "# Convertimos las variables a los tipos de datos establecidos\n",
    "df = df.astype(var_types)\n",
    "\n",
    "# Filtramos las filas con valores menores a 16 años y mayores a 75 años\n",
    "df = df[(df['age'] >= 16) & (df['age'] <= 80)]\n",
    "\n",
    "# Filtramos valor de total_src es mayor a 100 y menor a 15000\n",
    "df = df[(df['total_src'] >= 100) & (df['total_src'] <= 15000)]\n",
    "\n",
    "df = df.dropna(subset=['main_src','total_src','age'])\n",
    "df = df.reset_index(drop=True)\n",
    "\n",
    "print(f'tamaño del dataframe:{df.shape}\\ntipos de datos:\\n{df.dtypes}\\n')\n",
    "print(df)"
   ]
  },
  {
   "cell_type": "code",
   "execution_count": null,
   "metadata": {},
   "outputs": [],
   "source": [
    "#df_1 = df.drop(columns=['education', 'ethnicity'])\n",
    "\n",
    "df_1 = df.dropna(subset=['education', 'ethnicity'])\n",
    "\n",
    "merged_df = df.merge(df_1, how='outer', indicator=True)\n",
    "df_2 = merged_df[merged_df['_merge'] == 'left_only'].drop(columns=['_merge'])\n",
    "\n",
    "\n",
    "df_1.to_csv('../data/processed/dataset.csv', index=False)\n",
    "df_2.to_csv('../data/processed/dataset+.csv', index=False)\n",
    "\n",
    "print(f'tamaño del dataframe:{df_2.shape}\\ntipos de datos:\\n{df_2.dtypes}\\n')\n",
    "print(f'tamaño del dataframe:{df_1.shape}\\ntipos de datos:\\n{df_1.dtypes}\\n')"
   ]
  }
 ],
 "metadata": {
  "kernelspec": {
   "display_name": "test",
   "language": "python",
   "name": "python3"
  },
  "language_info": {
   "codemirror_mode": {
    "name": "ipython",
    "version": 3
   },
   "file_extension": ".py",
   "mimetype": "text/x-python",
   "name": "python",
   "nbconvert_exporter": "python",
   "pygments_lexer": "ipython3",
   "version": "3.11.5"
  }
 },
 "nbformat": 4,
 "nbformat_minor": 2
}
