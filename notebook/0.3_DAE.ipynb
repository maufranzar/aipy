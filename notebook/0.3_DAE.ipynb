{
 "cells": [
  {
   "cell_type": "code",
   "execution_count": null,
   "metadata": {},
   "outputs": [],
   "source": [
    "import pandas as pd \n",
    "import numpy as np\n",
    "import matplotlib.pyplot as plt\n",
    "import seaborn as sns\n",
    "import warnings\n",
    "warnings.filterwarnings('ignore')\n",
    "\n",
    "# Cargamos el DataFrame\n",
    "# Ingresos totales [100,10000] y edad [16,75]\n",
    "df = pd.read_csv('../data/processed/df.csv')\n",
    "\n",
    "# Datasets filtrado por sexo\n",
    "df_m = df[df['sexo'] == 'varon']    #424\n",
    "df_f = df[df['sexo'] == 'mujer']    #299\n",
    "\n",
    "df_m.to_csv('../data/processed/df_m.csv', index=False)\n",
    "df_f.to_csv('../data/processed/df_f.csv', index=False)\n",
    "\n",
    "print(f'Mujeres: {df_f.shape[0]} \\nVarones: {df_m.shape[0]}')\n"
   ]
  },
  {
   "cell_type": "code",
   "execution_count": null,
   "metadata": {},
   "outputs": [],
   "source": [
    "sns.set(style=\"whitegrid\",\n",
    "        color_codes=True,\n",
    "        context=\"notebook\",\n",
    "        rc={\"grid.linewidth\":0.25,\"grid.color\":\"grey\",\"grid.linestyle\":\"-\"},\n",
    "        font_scale=1,\n",
    "        palette=\"husl\")\n",
    "\n",
    "plt.style.use('dark_background')\n",
    "plt.rcParams['figure.figsize'] = (12,10)"
   ]
  },
  {
   "cell_type": "code",
   "execution_count": null,
   "metadata": {},
   "outputs": [],
   "source": [
    "# Histplot: Distribución de edades por sexo\n",
    "fig, ax = plt.subplots(2,figsize=(15,10))\n",
    "\n",
    "sns.histplot(data=df,x=\"edad\",hue=\"sexo\",ax=ax[0],\n",
    "             kde=True,bins=20,\n",
    "             legend=True,multiple=\"stack\",edgecolor='black',\n",
    "             palette={'varon':'#196F3D','mujer':'#D4AC0D'})\n",
    "ax[0].set_title('Distribución de edades por sexo')\n",
    "ax[0].set_xlabel('Edad')\n",
    "ax[0].set_ylabel('Frecuencia')\n",
    "\n",
    "sns.histplot(data=df,x=\"ingreso_total\",hue=\"sexo\",ax=ax[1],\n",
    "             kde=True,bins=20,\n",
    "             legend=True,multiple=\"stack\",edgecolor='black',\n",
    "             palette={'varon':'#196F3D','mujer':'#D4AC0D'})\n",
    "ax[1].set_title('Distribución de ingreso total por sexo')\n",
    "ax[1].set_xlabel('Ingreso total')\n",
    "ax[1].set_ylabel('Frecuencia')\n",
    "\n",
    "plt.tight_layout()\n",
    "plt.show()"
   ]
  },
  {
   "cell_type": "code",
   "execution_count": null,
   "metadata": {},
   "outputs": [],
   "source": [
    "# violinplot: Distribucion de ingreso total por mes y sexo\n",
    "fig, ax = plt.subplots(figsize=(15,10))\n",
    "sns.violinplot(data=df,x=\"mes\",y=\"ingreso_total\",hue=\"sexo\",\n",
    "               split=True,inner=\"quartile\",ax=ax,\n",
    "               palette={'varon':'#196F3D','mujer':'#D4AC0D'})\n",
    "ax.set_title('Distribución de ingreso total por mes y sexo')\n",
    "ax.set_xlabel('Mes')\n",
    "y_ticks = np.arange(df['ingreso_total'].min(), df['ingreso_total'].max(), step=500)\n",
    "plt.yticks(y_ticks)\n",
    "ax.set_ylabel('Ingreso total')\n",
    "plt.show()\n",
    "\n"
   ]
  }
 ],
 "metadata": {
  "kernelspec": {
   "display_name": "test",
   "language": "python",
   "name": "python3"
  },
  "language_info": {
   "codemirror_mode": {
    "name": "ipython",
    "version": 3
   },
   "file_extension": ".py",
   "mimetype": "text/x-python",
   "name": "python",
   "nbconvert_exporter": "python",
   "pygments_lexer": "ipython3",
   "version": "3.11.5"
  }
 },
 "nbformat": 4,
 "nbformat_minor": 2
}
