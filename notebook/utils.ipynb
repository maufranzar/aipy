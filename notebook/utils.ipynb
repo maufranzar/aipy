{
 "cells": [
  {
   "cell_type": "code",
   "execution_count": 2,
   "metadata": {},
   "outputs": [],
   "source": [
    "import os\n",
    "import requests\n",
    "import shutil\n",
    "import zipfile\n",
    "import rarfile\n",
    "\n",
    "class GET:\n",
    "    def __init__(self, input_object):\n",
    "        self.input_object = input_object\n",
    "        self.path = '../data/external/'\n",
    "\n",
    "    def process(self):\n",
    "        if self.input_object.startswith('http://') or self.input_object.startswith('https://'):\n",
    "            self.download()\n",
    "        elif self.input_object.endswith('.zip') or self.input_object.endswith('.rar'):\n",
    "            self.unzip()\n",
    "        else:\n",
    "            raise ValueError(\"Unsupported input type. Only URLs, .zip and .rar files are supported.\")\n",
    "\n",
    "    def download(self):\n",
    "        response = requests.get(self.input_object, stream=True)\n",
    "        filename = os.path.join(self.path, self.input_object.split(\"/\")[-1])\n",
    "        self.save_to(response.raw, filename)\n",
    "        del response\n",
    "\n",
    "    def save_to(self, file_object, path):\n",
    "        if not os.path.exists(os.path.dirname(path)):\n",
    "            os.makedirs(os.path.dirname(path))\n",
    "        with open(path, 'wb') as out_file:\n",
    "            shutil.copyfileobj(file_object, out_file)\n",
    "\n",
    "    def unzip(self):\n",
    "        path_to_zip = self.input_object\n",
    "        path_to_extract_to = os.path.join(self.path, os.path.splitext(os.path.basename(path_to_zip))[0])\n",
    "        if path_to_zip.endswith('.zip'):\n",
    "            with zipfile.ZipFile(path_to_zip, 'r') as zip_ref:\n",
    "                zip_ref.extractall(path_to_extract_to)\n",
    "        elif path_to_zip.endswith('.rar'):\n",
    "            with rarfile.RarFile(path_to_zip, 'r') as rar_ref:\n",
    "                rar_ref.extractall(path_to_extract_to)\n",
    "\n"
   ]
  }
 ],
 "metadata": {
  "kernelspec": {
   "display_name": "aipy",
   "language": "python",
   "name": "python3"
  },
  "language_info": {
   "codemirror_mode": {
    "name": "ipython",
    "version": 3
   },
   "file_extension": ".py",
   "mimetype": "text/x-python",
   "name": "python",
   "nbconvert_exporter": "python",
   "pygments_lexer": "ipython3",
   "version": "3.11.5"
  }
 },
 "nbformat": 4,
 "nbformat_minor": 2
}
