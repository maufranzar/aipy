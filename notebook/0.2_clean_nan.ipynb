{
 "cells": [
  {
   "cell_type": "code",
   "execution_count": 1,
   "metadata": {},
   "outputs": [],
   "source": [
    "import pandas as pd \n",
    "import numpy as np\n",
    "\n",
    "# Cargamos el DataFrame\n",
    "df = pd.read_csv('../data/pre-processed/dataframe.csv')\n"
   ]
  },
  {
   "cell_type": "code",
   "execution_count": 2,
   "metadata": {},
   "outputs": [
    {
     "name": "stdout",
     "output_type": "stream",
     "text": [
      "tamaño del dataframe: (1400, 13)\n",
      "tipos de datos:\n",
      "mes                   object\n",
      "sexo                  object\n",
      "edad                 float64\n",
      "rol                   object\n",
      "sector                object\n",
      "tamano_empresa        object\n",
      "buscando_trabajo        bool\n",
      "detalle_busqueda      object\n",
      "semanas_busqueda     float64\n",
      "nivel_educativo       object\n",
      "etnicidad             object\n",
      "ingreso_principal    float64\n",
      "ingreso_total        float64\n",
      "dtype: object\n",
      "\n"
     ]
    }
   ],
   "source": [
    "# Definimos los tipos de datos de las variables\n",
    "var_types = {\n",
    "    'mes':'str',\n",
    "    'sexo':'str',                 \n",
    "    'edad':'float',  # Cambiado a 'float' para manejar NaN               \n",
    "    'rol':'str',                  \n",
    "    'sector':'str',               \n",
    "    'tamano_empresa':'str',       \n",
    "    'buscando_trabajo':'bool',     \n",
    "    'detalle_busqueda':'str',   \n",
    "    'semanas_busqueda':'float',  # Cambiado a 'float' para manejar NaN   \n",
    "    'nivel_educativo':'str',      \n",
    "    'etnicidad':'str',            \n",
    "    'ingreso_principal':'float',  # Cambiado a 'float' para manejar NaN\n",
    "    'ingreso_total':'float',  # Cambiado a 'float' para manejar NaN\n",
    "}\n",
    "\n",
    "# Convertimos los valores nulos y espacios en blanco a NaN\n",
    "df = df.replace(r'^\\s*$', np.nan, regex=True)\n",
    "\n",
    "# Convertimos las variables a los tipos de datos establecidos\n",
    "df = df.astype(var_types)\n",
    "\n",
    "\n",
    "print(f'tamaño del dataframe: {df.shape}\\ntipos de datos:\\n{df.dtypes}\\n')"
   ]
  },
  {
   "cell_type": "code",
   "execution_count": 3,
   "metadata": {},
   "outputs": [
    {
     "name": "stdout",
     "output_type": "stream",
     "text": [
      "valores nulos:\n",
      "mes                    0\n",
      "sexo                   0\n",
      "edad                   0\n",
      "rol                    0\n",
      "sector                 0\n",
      "tamano_empresa         0\n",
      "buscando_trabajo       0\n",
      "detalle_busqueda       0\n",
      "semanas_busqueda     722\n",
      "nivel_educativo        0\n",
      "etnicidad              0\n",
      "ingreso_principal      0\n",
      "ingreso_total          0\n",
      "dtype: int64\n"
     ]
    }
   ],
   "source": [
    "# FILTROS\n",
    "\n",
    "# Filtramos las filas con valores menores a 16 años y mayores a 70 años\n",
    "df = df[(df['edad'] >= 16) & (df['edad'] <= 75)]\n",
    "\n",
    "# Filtramos valor de ingreso_total es mayor a 100 y menor a 10000\n",
    "df = df[(df['ingreso_total'] >= 100) & (df['ingreso_total'] <= 10000)]\n",
    "\n",
    "#contamos los valores nulos por columna\n",
    "print(f'valores nulos:\\n{df.isnull().sum()}')\n",
    "\n",
    "df.to_csv('../data/processed/df.csv', index=False)"
   ]
  }
 ],
 "metadata": {
  "kernelspec": {
   "display_name": "test",
   "language": "python",
   "name": "python3"
  },
  "language_info": {
   "codemirror_mode": {
    "name": "ipython",
    "version": 3
   },
   "file_extension": ".py",
   "mimetype": "text/x-python",
   "name": "python",
   "nbconvert_exporter": "python",
   "pygments_lexer": "ipython3",
   "version": "3.11.5"
  }
 },
 "nbformat": 4,
 "nbformat_minor": 2
}
