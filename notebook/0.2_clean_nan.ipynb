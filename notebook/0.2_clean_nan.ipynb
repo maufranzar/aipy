{
 "cells": [
  {
   "cell_type": "code",
   "execution_count": 3,
   "metadata": {},
   "outputs": [],
   "source": [
    "import pandas as pd \n",
    "import numpy as np\n",
    "\n",
    "# Cargamos el DataFrame\n",
    "df = pd.read_csv('../data/pre-processed/dataframe.csv')\n"
   ]
  },
  {
   "cell_type": "code",
   "execution_count": 4,
   "metadata": {},
   "outputs": [
    {
     "name": "stdout",
     "output_type": "stream",
     "text": [
      "tamaño del dataframe: (1800, 13)\n",
      "tipos de datos:\n",
      "month                 object\n",
      "gender                object\n",
      "years                float64\n",
      "rol                   object\n",
      "sector                object\n",
      "n_employees           object\n",
      "lf_job                  bool\n",
      "employment_source     object\n",
      "n_weeks_lf_job       float64\n",
      "edu_lvl               object\n",
      "etnicity              object\n",
      "1st_source           float64\n",
      "total                float64\n",
      "dtype: object\n",
      "\n"
     ]
    }
   ],
   "source": [
    "# Definimos los tipos de datos de las variables\n",
    "var_types = {\n",
    "    'month':'str',\n",
    "    'gender':'str',                 \n",
    "    'years':'float',  # Cambiado a 'float' para manejar NaN               \n",
    "    'rol':'str',                  \n",
    "    'sector':'str',               \n",
    "    'n_employees':'str',       \n",
    "    'lf_job':'bool',     \n",
    "    'employment_source':'str',   \n",
    "    'n_weeks_lf_job':'float',  # Cambiado a 'float' para manejar NaN   \n",
    "    'edu_lvl':'str',      \n",
    "    'etnicity':'str',            \n",
    "    '1st_source':'float',  # Cambiado a 'float' para manejar NaN\n",
    "    'total':'float',  # Cambiado a 'float' para manejar NaN\n",
    "}\n",
    "\n",
    "# Convertimos los valores nulos y espacios en blanco a NaN\n",
    "df = df.replace(r'^\\s*$', np.nan, regex=True)\n",
    "\n",
    "# Convertimos las variables a los tipos de datos establecidos\n",
    "df = df.astype(var_types)\n",
    "\n",
    "\n",
    "print(f'tamaño del dataframe: {df.shape}\\ntipos de datos:\\n{df.dtypes}\\n')"
   ]
  },
  {
   "cell_type": "code",
   "execution_count": 7,
   "metadata": {},
   "outputs": [
    {
     "name": "stdout",
     "output_type": "stream",
     "text": [
      "valores nulos:\n",
      "month                  0\n",
      "gender                 0\n",
      "years                  0\n",
      "rol                    0\n",
      "sector                 0\n",
      "n_employees            0\n",
      "lf_job                 0\n",
      "employment_source      0\n",
      "n_weeks_lf_job       883\n",
      "edu_lvl                0\n",
      "etnicity               0\n",
      "1st_source             0\n",
      "total                  0\n",
      "dtype: int64\n"
     ]
    }
   ],
   "source": [
    "# FILTROS\n",
    "\n",
    "# Filtramos las filas con valores menores a 16 años y mayores a 75 años\n",
    "df = df[(df['years'] >= 16) & (df['years'] <= 75)]\n",
    "\n",
    "# Filtramos valor de total es mayor a 100 y menor a 10000\n",
    "df = df[(df['total'] >= 100) & (df['total'] <= 12000)]\n",
    "\n",
    "#contamos los valores nulos por columna\n",
    "print(f'valores nulos:\\n{df.isnull().sum()}')\n",
    "\n",
    "df.to_csv('../data/processed/df.csv', index=False)"
   ]
  }
 ],
 "metadata": {
  "kernelspec": {
   "display_name": "test",
   "language": "python",
   "name": "python3"
  },
  "language_info": {
   "codemirror_mode": {
    "name": "ipython",
    "version": 3
   },
   "file_extension": ".py",
   "mimetype": "text/x-python",
   "name": "python",
   "nbconvert_exporter": "python",
   "pygments_lexer": "ipython3",
   "version": "3.11.5"
  }
 },
 "nbformat": 4,
 "nbformat_minor": 2
}
