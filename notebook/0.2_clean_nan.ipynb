{
 "cells": [
  {
   "cell_type": "code",
   "execution_count": 1,
   "metadata": {},
   "outputs": [],
   "source": [
    "import pandas as pd \n",
    "import numpy as np\n",
    "\n",
    "# Cargamos el DataFrame\n",
    "df = pd.read_csv('../data/pre-processed/pre-processed.csv',low_memory=False)\n"
   ]
  },
  {
   "cell_type": "code",
   "execution_count": 2,
   "metadata": {},
   "outputs": [
    {
     "name": "stdout",
     "output_type": "stream",
     "text": [
      "tamaño del dataframe:(66923, 7)\n",
      "tipos de datos:\n",
      "month           object\n",
      "gender          object\n",
      "years          float64\n",
      "edu_lvl         object\n",
      "etnicity        object\n",
      "main_source    float64\n",
      "total          float64\n",
      "dtype: object\n",
      "\n"
     ]
    }
   ],
   "source": [
    "\n",
    "# Definimos los tipos de datos de las variables\n",
    "var_types = {\n",
    "    'month':'str',\n",
    "    'gender':'str',                 \n",
    "    'years':'float',  # Cambiado a 'float' para manejar NaN               \n",
    "    'rol':'str',                  \n",
    "    'sector':'str',               \n",
    "    'n_employees':'str',       \n",
    "    'lf_job':'bool',     \n",
    "    'employment_source':'str',   \n",
    "    'n_weeks_lf_job':'float',  # Cambiado a 'float' para manejar NaN   \n",
    "    'edu_lvl':'str',      \n",
    "    'etnicity':'str',            \n",
    "    'main_source':'float',  # Cambiado a 'float' para manejar NaN\n",
    "    'total':'float',  # Cambiado a 'float' para manejar NaN\n",
    "}\n",
    "\n",
    "\n",
    "# Convertimos los valores nulos y espacios en blanco a NaN\n",
    "df = df.replace(r'^\\s*$', np.nan, regex=True)\n",
    "\n",
    "# Convertimos las variables a los tipos de datos establecidos\n",
    "df = df.astype(var_types)\n",
    "\n",
    "\n",
    "# Filtramos las variables de interes\n",
    "df = df[['month','gender','years','edu_lvl','etnicity','main_source','total']]\n",
    "\n",
    "# Filtramos las filas con valores menores a 16 años y mayores a 75 años\n",
    "df = df[(df['years'] >= 16) & (df['years'] <= 75)]\n",
    "\n",
    "# Filtramos valor de total es mayor a 100 y menor a 9000\n",
    "df = df[(df['total'] >= 100) & (df['total'] <= 9000)]\n",
    "\n",
    "print(f'tamaño del dataframe:{df.shape}\\ntipos de datos:\\n{df.dtypes}\\n')"
   ]
  },
  {
   "cell_type": "code",
   "execution_count": 3,
   "metadata": {},
   "outputs": [
    {
     "name": "stdout",
     "output_type": "stream",
     "text": [
      "<class 'pandas.core.frame.DataFrame'>\n",
      "Index: 66923 entries, 0 to 148774\n",
      "Data columns (total 7 columns):\n",
      " #   Column       Non-Null Count  Dtype  \n",
      "---  ------       --------------  -----  \n",
      " 0   month        66923 non-null  object \n",
      " 1   gender       66923 non-null  object \n",
      " 2   years        66923 non-null  float64\n",
      " 3   edu_lvl      66923 non-null  object \n",
      " 4   etnicity     66923 non-null  object \n",
      " 5   main_source  66923 non-null  float64\n",
      " 6   total        66923 non-null  float64\n",
      "dtypes: float64(3), object(4)\n",
      "memory usage: 4.1+ MB\n",
      "df_full:\n",
      "None\n"
     ]
    }
   ],
   "source": [
    "\n",
    "df_full = df.dropna()\n",
    "\n",
    "df_full.to_csv('../data/processed/df.csv',index=False)\n",
    "\n",
    "print(f'df_full:\\n{df_full.info()}')\n"
   ]
  }
 ],
 "metadata": {
  "kernelspec": {
   "display_name": "test",
   "language": "python",
   "name": "python3"
  },
  "language_info": {
   "codemirror_mode": {
    "name": "ipython",
    "version": 3
   },
   "file_extension": ".py",
   "mimetype": "text/x-python",
   "name": "python",
   "nbconvert_exporter": "python",
   "pygments_lexer": "ipython3",
   "version": "3.11.5"
  }
 },
 "nbformat": 4,
 "nbformat_minor": 2
}
