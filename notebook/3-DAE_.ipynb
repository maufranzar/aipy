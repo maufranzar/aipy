{
 "cells": [
  {
   "cell_type": "code",
   "execution_count": null,
   "metadata": {},
   "outputs": [],
   "source": [
    "import pandas as pd\n",
    "import numpy as np\n",
    "import matplotlib.pyplot as plt\n",
    "import seaborn as sns\n",
    "import warnings\n",
    "\n",
    "\n",
    "\n",
    "warnings.filterwarnings('ignore') # Elimina los Warnings\n",
    "sns.set_theme(style=\"whitegrid\", # plantilla para seaborn\n",
    "        color_codes=True,\n",
    "        context=\"notebook\",\n",
    "        rc={\"grid.linewidth\":0.25,\"grid.color\":\"grey\",\"grid.linestyle\":\"-\"},\n",
    "        font_scale=1,\n",
    "        palette=\"husl\")\n",
    "\n",
    "plt.style.use('dark_background') # Estilo de los graficos"
   ]
  },
  {
   "cell_type": "code",
   "execution_count": null,
   "metadata": {},
   "outputs": [],
   "source": [
    "# Cargamos el DataFrame()\n",
    "\n",
    "df = pd.read_csv('../data/processed/subdataset.csv') # \"Muestra\"\n",
    "#df_ = pd.read_csv('../data/processed/dataset.csv') # \"Poblacion\"\n",
    "\n",
    "\n",
    "categorical_columns = [\"sex\",\"education\",\"ethnicity\"]\n",
    "numerical_columns = [\"age\",\"main_src\",\"total_src\"]"
   ]
  },
  {
   "cell_type": "code",
   "execution_count": null,
   "metadata": {},
   "outputs": [],
   "source": [
    "### CASO: Brechas Socio - Economicas\n",
    "\n",
    "# variables: age sex ethnicity, education, main_src, total_src\n",
    "\n",
    "df = df[[\"age\",\"sex\",\"ethnicity\",\"education\",\"main_src\",\"total_src\"]]\n",
    "\n",
    "df_blanco_maestria = df[((df[\"ethnicity\"]==\"blanco\")&(df[\"education\"]==\"maestria\"))]\n",
    "\n",
    "min_blanco_maestria = df_blanco_maestria[\"main_src\"].min()\n",
    "max_blanco_maestria = df_blanco_maestria[\"main_src\"].max()\n",
    "mean_blanco_maestria = df_blanco_maestria[\"main_src\"].mean()\n",
    "median_blanco_maestria = df_blanco_maestria[\"main_src\"].median()\n",
    "std_blanco_maestria = df_blanco_maestria[\"main_src\"].std()\n",
    "range_blanco_maestria = max_blanco_maestria - min_blanco_maestria\n",
    "var_blanco_maestria = df_blanco_maestria[\"main_src\"].var()\n",
    "q1_blanco_maestria = df_blanco_maestria[\"main_src\"].quantile(0.25)\n",
    "q3_blanco_maestria = df_blanco_maestria[\"main_src\"].quantile(0.75)\n",
    "\n",
    "print(f\"De: {df_blanco_maestria.count()} personas encuestada.\\n\"\n",
    "      f\"Medidas - Descriptivas:\\n\"\n",
    "      f\"=====================\\n\\n\"\n",
    "      f\"Min: {min_blanco_maestria}\\n\"\n",
    "      f\"Max: {max_blanco_maestria}\\n\"\n",
    "      f\"Media: {mean_blanco_maestria}\\n\"\n",
    "      f\"Mediana: {median_blanco_maestria}\\n\"\n",
    "      f\"Desviación estándar: {std_blanco_maestria}\\n\"\n",
    "      f\"Rango: {range_blanco_maestria}\\n\"\n",
    "      f\"Varianza: {var_blanco_maestria}\\n\"\n",
    "      f\"Primer cuartil (Q1): {q1_blanco_maestria}\\n\"\n",
    "      f\"Tercer cuartil (Q3): {q3_blanco_maestria}\")\n",
    "\n",
    "# Grafico de caja y bigotes\n",
    "plt.figure(figsize=(10, 6))\n",
    "sns.relplot(data=df_blanco_maestria,x=\"age\",y=\"total_src\",\n",
    "            hue=\"sex\",kind=\"line\",size=\"size\",\n",
    "            palette={'m':'#2ECC71','f':'#7D3C98'})\n",
    "\n",
    "plt.show()\n",
    "\n"
   ]
  },
  {
   "cell_type": "code",
   "execution_count": null,
   "metadata": {},
   "outputs": [],
   "source": [
    "df = df[[\"age\",\"sex\",\"ethnicity\",\"education\",\"main_src\",\"total_src\"]]\n",
    "\n",
    "df_blanco_maestria = df[((df[\"ethnicity\"]==\"blanco\")&(df[\"education\"]==\"maestria\"))]\n",
    "\n",
    "\n",
    "\n",
    "df_mestizo_maestria = df[((df[\"ethnicity\"]==\"mestizo\")&(df[\"education\"]==\"maestria\"))]"
   ]
  },
  {
   "cell_type": "code",
   "execution_count": null,
   "metadata": {},
   "outputs": [],
   "source": []
  },
  {
   "cell_type": "code",
   "execution_count": null,
   "metadata": {},
   "outputs": [],
   "source": [
    "\n",
    "\n",
    "\n",
    "g = sns.jointplot(\n",
    "    data=df[(df[\"ethnicity\"]==\"blanco\")],\n",
    "    x=\"age\",y=\"main_src\",hue=\"sex\",\n",
    "    kind=\"kde\",fill=False,\n",
    "    palette={'m':'#2ECC71','f':'#7D3C98'})\n",
    "\n",
    "g.plot_joint(sns.kdeplot, zorder=0, levels=6)\n",
    "g.plot_marginals(sns.histplot,alpha=1)\n",
    "plt.show()\n",
    "\n",
    "g = sns.pairplot(\n",
    "    data=df[(df[\"ethnicity\"]==\"blanco\")],\n",
    "    hue=\"sex\",\n",
    "    kind=\"ska\",\n",
    "    palette={'m':'#2ECC71','f':'#7D3C98'})\n",
    "plt.show()"
   ]
  }
 ],
 "metadata": {
  "kernelspec": {
   "display_name": "test",
   "language": "python",
   "name": "python3"
  },
  "language_info": {
   "codemirror_mode": {
    "name": "ipython",
    "version": 3
   },
   "file_extension": ".py",
   "mimetype": "text/x-python",
   "name": "python",
   "nbconvert_exporter": "python",
   "pygments_lexer": "ipython3",
   "version": "3.1.0"
  }
 },
 "nbformat": 4,
 "nbformat_minor": 2
}
