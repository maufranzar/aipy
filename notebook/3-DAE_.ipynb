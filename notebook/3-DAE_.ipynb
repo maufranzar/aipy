{
 "cells": [
  {
   "cell_type": "code",
   "execution_count": null,
   "metadata": {},
   "outputs": [],
   "source": [
    "import pandas as pd \n",
    "import numpy as np\n",
    "import matplotlib.pyplot as plt\n",
    "import seaborn as sns\n",
    "import warnings\n",
    "\n",
    "warnings.filterwarnings('ignore')\n",
    "sns.set_theme(style=\"whitegrid\",\n",
    "        color_codes=True,\n",
    "        context=\"notebook\",\n",
    "        rc={\"grid.linewidth\":0.25,\"grid.color\":\"grey\",\"grid.linestyle\":\"-\"},\n",
    "        font_scale=1,\n",
    "        palette=\"husl\")\n",
    "\n",
    "plt.style.use('dark_background')\n",
    "plt.rcParams['figure.figsize'] = (12,6)\n"
   ]
  },
  {
   "cell_type": "code",
   "execution_count": null,
   "metadata": {},
   "outputs": [],
   "source": [
    "df_pob = pd.read_csv('../data/processed/dataset.csv') # \"Poblacion\"\n",
    "df_sam = pd.read_csv('../data/processed/subdataset.csv') # \"Muestra\""
   ]
  },
  {
   "cell_type": "code",
   "execution_count": null,
   "metadata": {},
   "outputs": [],
   "source": [
    "# Histplot: Distribución de edades por gender\n",
    "fig, ax = plt.subplots(2,figsize=(15,10))\n",
    "\n",
    "sns.histplot(data=df_pob,x=\"years\",hue=\"gender\",ax=ax[0],\n",
    "             kde=True,bins=64,\n",
    "             legend=True,multiple=\"layer\",edgecolor='black',\n",
    "             palette={'m':'#2ECC71','f':'#7D3C98'})\n",
    "ax[0].set_title('Distribución de edades por genero')\n",
    "ax[0].set_xlabel('Edad')\n",
    "ax[0].set_ylabel('Frecuencia')\n",
    "\n",
    "sns.histplot(data=df_pob,x=\"total\",hue=\"gender\",ax=ax[1],\n",
    "             kde=True,bins=64,\n",
    "             legend=True,multiple=\"layer\",edgecolor='black',\n",
    "             palette={'m':'#2ECC71','f':'#7D3C98'})\n",
    "ax[1].set_title('Distribución de ingreso total por genero')\n",
    "ax[1].set_xlabel('Ingreso total')\n",
    "ax[1].set_ylabel('Frecuencia')\n",
    "\n",
    "plt.tight_layout()\n",
    "plt.show()"
   ]
  },
  {
   "cell_type": "code",
   "execution_count": null,
   "metadata": {},
   "outputs": [],
   "source": [
    "fig, ax = plt.subplots(figsize=(12,6))\n",
    "sns.violinplot(data=df_pob, x=\"month\", y=\"total\", hue=\"gender\",\n",
    "               order=['JAN','FEB','MAR','APR','MAY','JUN','JUL','OCT','NOV'],\n",
    "               split=True, inner=\"quart\", ax=ax,\n",
    "               palette={'m':'#2ECC71','f':'#7D3C98'})\n",
    "ax.set_title('Distribución de ingreso total por mes y genero')\n",
    "ax.set_xlabel('Mes')\n",
    "ax.set_ylim([100, 5000])  # Estableciendo los límites del eje y\n",
    "ax.set_ylabel('total')\n",
    "y_ticks = np.arange(100, 5000, step=500)\n",
    "plt.yticks(y_ticks)\n",
    "plt.show()"
   ]
  },
  {
   "cell_type": "code",
   "execution_count": null,
   "metadata": {},
   "outputs": [],
   "source": [
    "\n",
    "### MUESTRA REPRESENTATIVA ### \n",
    "\n",
    "fig, ax = plt.subplots(2,figsize=(15,10))\n",
    "\n",
    "sns.histplot(data=df_sam,x=\"years\",hue=\"gender\",ax=ax[0],\n",
    "             kde=True,bins=64,\n",
    "             legend=True,multiple=\"layer\",edgecolor='black',\n",
    "             palette={'m':'#2ECC71','f':'#7D3C98'})\n",
    "ax[0].set_title('Distribución de edades por genero')\n",
    "ax[0].set_xlabel('Edad')\n",
    "ax[0].set_ylabel('Frecuencia')\n",
    "\n",
    "sns.histplot(data=df_sam,x=\"total\",hue=\"gender\",ax=ax[1],\n",
    "             kde=True,bins=64,\n",
    "             legend=True,multiple=\"layer\",edgecolor='black',\n",
    "             palette={'m':'#2ECC71','f':'#7D3C98'})\n",
    "ax[1].set_title('Distribución de ingreso total por genero')\n",
    "ax[1].set_xlabel('Ingreso total')\n",
    "ax[1].set_ylabel('Frecuencia')\n",
    "\n",
    "plt.tight_layout()\n",
    "plt.show()"
   ]
  },
  {
   "cell_type": "code",
   "execution_count": null,
   "metadata": {},
   "outputs": [],
   "source": [
    "### MAS GRAFICOS ### GENERO Y EDAD EN MAIN_SOURCE"
   ]
  }
 ],
 "metadata": {
  "kernelspec": {
   "display_name": "test",
   "language": "python",
   "name": "python3"
  },
  "language_info": {
   "codemirror_mode": {
    "name": "ipython",
    "version": 3
   },
   "file_extension": ".py",
   "mimetype": "text/x-python",
   "name": "python",
   "nbconvert_exporter": "python",
   "pygments_lexer": "ipython3",
   "version": "3.11.5"
  }
 },
 "nbformat": 4,
 "nbformat_minor": 2
}
