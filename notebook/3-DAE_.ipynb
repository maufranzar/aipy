{
 "cells": [
  {
   "cell_type": "code",
   "execution_count": null,
   "metadata": {},
   "outputs": [],
   "source": [
    "import pandas as pd \n",
    "import numpy as np\n",
    "import matplotlib.pyplot as plt\n",
    "import seaborn as sns\n",
    "import warnings\n",
    "\n",
    "warnings.filterwarnings('ignore')\n",
    "sns.set_theme(style=\"whitegrid\",\n",
    "        color_codes=True,\n",
    "        context=\"notebook\",\n",
    "        rc={\"grid.linewidth\":0.25,\"grid.color\":\"grey\",\"grid.linestyle\":\"-\"},\n",
    "        font_scale=1,\n",
    "        palette=\"husl\")\n",
    "\n",
    "plt.style.use('dark_background')\n",
    "plt.rcParams['figure.figsize'] = (12,6)\n"
   ]
  },
  {
   "cell_type": "code",
   "execution_count": null,
   "metadata": {},
   "outputs": [],
   "source": []
  },
  {
   "cell_type": "code",
   "execution_count": null,
   "metadata": {},
   "outputs": [],
   "source": [
    "# Histplot: Distribución de edades por gender\n",
    "fig, ax = plt.subplots(2,figsize=(15,10))\n",
    "\n",
    "sns.histplot(data=df,x=\"years\",hue=\"gender\",ax=ax[0],\n",
    "             kde=True,bins=32,\n",
    "             legend=True,multiple=\"layer\",edgecolor='black',\n",
    "             palette={'m':'#2ECC71','f':'#7D3C98'})\n",
    "ax[0].set_title('Distribución de edades por genero')\n",
    "ax[0].set_xlabel('Edad')\n",
    "ax[0].set_ylabel('Frecuencia')\n",
    "\n",
    "sns.histplot(data=df,x=\"total\",hue=\"gender\",ax=ax[1],\n",
    "             kde=True,bins=32,\n",
    "             legend=True,multiple=\"layer\",edgecolor='black',\n",
    "             palette={'m':'#2ECC71','f':'#7D3C98'})\n",
    "ax[1].set_title('Distribución de ingreso total por genero')\n",
    "ax[1].set_xlabel('Ingreso total')\n",
    "ax[1].set_ylabel('Frecuencia')\n",
    "\n",
    "plt.tight_layout()\n",
    "plt.show()"
   ]
  },
  {
   "cell_type": "code",
   "execution_count": null,
   "metadata": {},
   "outputs": [],
   "source": [
    "# violinplot: Distribucion de ingreso total por mes y gender\n",
    "fig, ax = plt.subplots(figsize=(12,6))\n",
    "sns.violinplot(data=df,x=\"month\",y=\"total\",hue=\"gender\",\n",
    "               split=True,inner=\"quart\",ax=ax,\n",
    "               palette={'m':'#2ECC71','f':'#7D3C98'})\n",
    "ax.set_title('Distribución de ingreso total por mes y genero')\n",
    "ax.set_xlabel('Mes')\n",
    "ax.set_ylim([100, 5000])  # Estableciendo los límites del eje y\n",
    "ax.set_ylabel('total')\n",
    "y_ticks = np.arange(100, 5000, step=500)\n",
    "plt.yticks(y_ticks)\n",
    "plt.show()"
   ]
  },
  {
   "cell_type": "code",
   "execution_count": null,
   "metadata": {},
   "outputs": [],
   "source": [
    "\n",
    "### MUESTRA REPRESENTATIVA ### \n",
    "\n",
    "fig, ax = plt.subplots(2,figsize=(15,10))\n",
    "\n",
    "sns.histplot(data=df,x=\"years\",hue=\"gender\",ax=ax[0],\n",
    "             kde=True,bins=32,\n",
    "             legend=True,multiple=\"layer\",edgecolor='black',\n",
    "             palette={'m':'#2ECC71','f':'#7D3C98'})\n",
    "ax[0].set_title('Distribución de edades por genero')\n",
    "ax[0].set_xlabel('Edad')\n",
    "ax[0].set_ylabel('Frecuencia')\n",
    "\n",
    "sns.histplot(data=df,x=\"total\",hue=\"gender\",ax=ax[1],\n",
    "             kde=True,bins=32,\n",
    "             legend=True,multiple=\"layer\",edgecolor='black',\n",
    "             palette={'m':'#2ECC71','f':'#7D3C98'})\n",
    "ax[1].set_title('Distribución de ingreso total por genero')\n",
    "ax[1].set_xlabel('Ingreso total')\n",
    "ax[1].set_ylabel('Frecuencia')\n",
    "\n",
    "plt.tight_layout()\n",
    "plt.show()"
   ]
  },
  {
   "cell_type": "code",
   "execution_count": null,
   "metadata": {},
   "outputs": [],
   "source": [
    "# Configuración del tamaño de la figura\n",
    "plt.figure(figsize=(15,15))\n",
    "\n",
    "# Pairplot: Distribución de edades por gender\n",
    "sns.pairplot(\n",
    "    \n",
    "    data=df_full,\n",
    "    hue=\"gender\",\n",
    "    \n",
    "    kind='scatter',\n",
    "    diag_kind='kde',\n",
    "    \n",
    "    palette={'m':'#2ECC71','f':'#7D3C98'},\n",
    "    plot_kws={'edgecolor':'black'},\n",
    ")\n",
    "\n",
    "# Configuración de los títulos y etiquetas\n",
    "plt.title('PairPlot')\n",
    "\n",
    "plt.tight_layout()\n",
    "plt.show()"
   ]
  }
 ],
 "metadata": {
  "kernelspec": {
   "display_name": "test",
   "language": "python",
   "name": "python3"
  },
  "language_info": {
   "codemirror_mode": {
    "name": "ipython",
    "version": 3
   },
   "file_extension": ".py",
   "mimetype": "text/x-python",
   "name": "python",
   "nbconvert_exporter": "python",
   "pygments_lexer": "ipython3",
   "version": "3.11.5"
  }
 },
 "nbformat": 4,
 "nbformat_minor": 2
}
