{
 "cells": [
  {
   "cell_type": "code",
   "execution_count": 8,
   "metadata": {},
   "outputs": [],
   "source": [
    "import pandas as pd\n",
    "import numpy as np\n",
    "import matplotlib.pyplot as plt\n",
    "import seaborn as sns\n",
    "import warnings\n",
    "\n",
    "\n",
    "\n",
    "warnings.filterwarnings('ignore') # Elimina los Warnings\n",
    "plt.style.use('dark_background') # Estilo de los graficos\n",
    "sns.set_theme(style=\"whitegrid\", # plantilla para seaborn\n",
    "        color_codes=True,\n",
    "        context=\"notebook\",\n",
    "        rc={\"grid.linewidth\":0.25,\"grid.color\":\"grey\",\"grid.linestyle\":\"-\"},\n",
    "        font_scale=1,\n",
    "        palette=\"husl\")"
   ]
  },
  {
   "cell_type": "code",
   "execution_count": 9,
   "metadata": {},
   "outputs": [],
   "source": [
    "# Cargamos el DataFrame()\n",
    "\n",
    "df = pd.read_csv('../data/processed/subdataset.csv') # \"Muestra\"\n",
    "#df_ = pd.read_csv('../data/processed/dataset.csv') # \"Poblacion\"\n",
    "\n",
    "# Definimos las columnas categoricas y numericas\n",
    "categorical_columns = [\"sex\",\"education\",\"ethnicity\"]\n",
    "numerical_columns = [\"age\",\"main_src\",\"total_src\"]"
   ]
  },
  {
   "cell_type": "code",
   "execution_count": 10,
   "metadata": {},
   "outputs": [],
   "source": [
    "\n"
   ]
  },
  {
   "cell_type": "code",
   "execution_count": null,
   "metadata": {},
   "outputs": [],
   "source": [
    "fig, ax = plt.subplots(2,figsize=(15,10))\n",
    "\n",
    "sns.histplot(data=df_pituco,x=\"edu_lvl\",hue=\"gender\",ax=ax[0],\n",
    "             kde=True,bins=64,\n",
    "             legend=True,multiple=\"layer\",edgecolor='black',\n",
    "             palette={'m':'#2ECC71','f':'#7D3C98'})\n",
    "ax[0].set_title('Nivel Educatico de la etnia:\"Blanco\"')\n",
    "ax[0].set_xlabel('Nivel Educativo')\n",
    "ax[0].set_ylabel('Frecuencia')\n",
    "\n",
    "sns.histplot(data=df_pituco[\"\"],x=\"total\",hue=\"gender\",ax=ax[1],\n",
    "             kde=True,bins=64,\n",
    "             legend=True,multiple=\"layer\",edgecolor='black',\n",
    "             palette={'m':'#2ECC71','f':'#7D3C98'})\n",
    "ax[1].set_title('Distribución de ingreso total por genero')\n",
    "ax[1].set_xlabel('Ingreso total')\n",
    "ax[1].set_ylabel('Frecuencia')\n",
    "\n",
    "plt.tight_layout()\n",
    "plt.show()"
   ]
  }
 ],
 "metadata": {
  "kernelspec": {
   "display_name": "test",
   "language": "python",
   "name": "python3"
  },
  "language_info": {
   "codemirror_mode": {
    "name": "ipython",
    "version": 3
   },
   "file_extension": ".py",
   "mimetype": "text/x-python",
   "name": "python",
   "nbconvert_exporter": "python",
   "pygments_lexer": "ipython3",
   "version": "3.11.5"
  }
 },
 "nbformat": 4,
 "nbformat_minor": 2
}
